{
 "cells": [
  {
   "cell_type": "code",
   "execution_count": 59,
   "metadata": {},
   "outputs": [],
   "source": [
    "import pandas as pd\n",
    "import requests\n",
    "from bs4 import BeautifulSoup\n",
    "import datetime\n",
    "import re"
   ]
  },
  {
   "cell_type": "code",
   "execution_count": null,
   "metadata": {},
   "outputs": [],
   "source": [
    "NETKEIBA_ROOT_URL = \"https://www.netkeiba.com/\"\n",
    "id_ = \"2017100720\""
   ]
  },
  {
   "cell_type": "code",
   "execution_count": 145,
   "metadata": {},
   "outputs": [],
   "source": [
    "def scrape_horse_data(horse_id: str):\n",
    "    result = {\"id\": horse_id}\n",
    "    #? TOPページ\n",
    "    url = f\"https://db.netkeiba.com/horse/{horse_id}\"\n",
    "    res = requests.get(url)\n",
    "    soup = BeautifulSoup(res.content, 'html.parser')\n",
    "    result[\"馬名\"] = soup.select_one(\".horse_title h1\").text\n",
    "    result[\"英名\"] = soup.select_one(\".horse_title .eng_name\").text.strip()\n",
    "    result[\"現役\"], result[\"性別\"], result[\"毛色\"] = soup.select_one(\".horse_title .txt_01\").text.split()\n",
    "    # テーブルから情報取得\n",
    "    _dict = {row.select_one(\"th\").text.strip(): row.select_one(\"td\").text.strip() for row in soup.select(\".db_prof_table tr\")}\n",
    "    result[\"生年月日\"] = datetime.datetime.strptime(_dict[\"生年月日\"], \"%Y年%m月%d日\")\n",
    "    result[\"調教師\"] = re.sub(r\"\\(.+\\)\", \"\", _dict[\"調教師\"]).strip()\n",
    "    result[\"馬主\"] = _dict[\"馬主\"]\n",
    "    result[\"生産者\"] = _dict[\"生産者\"]\n",
    "    result[\"産地\"] = _dict[\"産地\"]\n",
    "\n",
    "    #? 戦績ページ\n",
    "    url = f\"https://db.netkeiba.com/horse/result/{horse_id}\"\n",
    "    res = requests.get(url)\n",
    "    soup = BeautifulSoup(res.content, 'html.parser')\n",
    "    s = str(soup.select_one(\".db_h_race_results\"))\n",
    "    df = pd.read_html(s)[0]\n",
    "    df = df.set_axis([l.replace(\" \", \"\") for l in df.columns], axis=\"columns\")\n",
    "    # 後処理\n",
    "    df.drop([\"映像\", \"馬場指数\", \"ﾀｲﾑ指数\", \"厩舎ｺﾒﾝﾄ\", \"備考\"], axis=\"columns\", inplace=True)\n",
    "    # 数値変換\n",
    "    for col in [\"頭数\", \"枠番\", \"馬番\", \"オッズ\", \"人気\", \"斤量\", \"着順\", \"着差\", \"上り\", \"賞金\"]:\n",
    "        df[col] = pd.to_numeric(df[col], errors='coerce')\n",
    "    result[\"戦績\"] = df\n",
    "\n",
    "    #? 血統ページ\n",
    "    url = f\"https://db.netkeiba.com/horse/ped/{horse_id}\"\n",
    "    res = requests.get(url)\n",
    "    soup = BeautifulSoup(res.content, 'html.parser')\n",
    "    blood_table_html = soup.select_one(\".blood_table.detail\")\n",
    "    peds = {}\n",
    "    for i in range(1,6):\n",
    "        rels = [f\"{n:05b}\"[-i:].replace(\"0\",\"父\").replace(\"1\",\"母\") for n in range(2**i)]\n",
    "        if i == 5:\n",
    "            horse_htmls = blood_table_html.select(f\"[height='20']\")\n",
    "        else:\n",
    "            horse_htmls = blood_table_html.select(f\"[rowspan='{32//(2**i)}']\")\n",
    "        for rel, horse_html in zip(rels, horse_htmls):\n",
    "            peds[rel] = horse_html.select_one(\"a\").text.strip().split(\"\\n\")[0]\n",
    "    result[\"血統\"] = peds.copy()\n",
    "    \n",
    "    return result\n",
    "\n",
    "    "
   ]
  },
  {
   "cell_type": "code",
   "execution_count": 142,
   "metadata": {},
   "outputs": [
    {
     "name": "stderr",
     "output_type": "stream",
     "text": [
      "/tmp/ipykernel_370279/757512840.py:24: FutureWarning: Passing literal html to 'read_html' is deprecated and will be removed in a future version. To read from a literal string, wrap it in a 'StringIO' object.\n",
      "  df = pd.read_html(s)[0]\n"
     ]
    }
   ],
   "source": [
    "horse_id = \"2017100720\"\n",
    "result = scrape_horse_data(horse_id)"
   ]
  },
  {
   "cell_type": "code",
   "execution_count": 143,
   "metadata": {},
   "outputs": [
    {
     "data": {
      "text/plain": [
       "dict_keys(['馬名', '英名', '現役', '性別', '毛色', '生年月日', '調教師', '馬主', '生産者', '産地', '戦績', '血統'])"
      ]
     },
     "execution_count": 143,
     "metadata": {},
     "output_type": "execute_result"
    }
   ],
   "source": [
    "result.keys()"
   ]
  },
  {
   "cell_type": "code",
   "execution_count": 144,
   "metadata": {},
   "outputs": [
    {
     "data": {
      "text/plain": [
       "'抹消'"
      ]
     },
     "execution_count": 144,
     "metadata": {},
     "output_type": "execute_result"
    }
   ],
   "source": [
    "result[\"現役\"]"
   ]
  }
 ],
 "metadata": {
  "kernelspec": {
   "display_name": "venv",
   "language": "python",
   "name": "python3"
  },
  "language_info": {
   "codemirror_mode": {
    "name": "ipython",
    "version": 3
   },
   "file_extension": ".py",
   "mimetype": "text/x-python",
   "name": "python",
   "nbconvert_exporter": "python",
   "pygments_lexer": "ipython3",
   "version": "3.10.12"
  }
 },
 "nbformat": 4,
 "nbformat_minor": 2
}
